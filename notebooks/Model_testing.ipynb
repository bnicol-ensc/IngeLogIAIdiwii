{
 "cells": [
  {
   "cell_type": "code",
   "execution_count": 1,
   "metadata": {},
   "outputs": [],
   "source": [
    "from sklearn.metrics import recall_score, accuracy_score, roc_curve, auc, f1_score, fbeta_score\n",
    "from sklearn.preprocessing import OneHotEncoder\n",
    "from scipy import interp\n",
    "from itertools import cycle\n",
    "\n",
    "import spacy\n",
    "import json\n",
    "import pandas as pd\n",
    "import numpy as np\n",
    "import matplotlib.pyplot as plt"
   ]
  },
  {
   "cell_type": "code",
   "execution_count": 2,
   "metadata": {},
   "outputs": [],
   "source": [
    "\n",
    "nlp = spacy.load(\"../models/model1\")\n",
    "textcat = nlp.get_pipe('textcat')\n",
    "\n",
    "def predict(sentence = \"What does life even mean ?\"):\n",
    "    docs = nlp.tokenizer(sentence)\n",
    "    # Use textcat to get the scores for each doc\n",
    "    scores, _ = textcat.predict([docs])\n",
    "    label = scores.argmax()\n",
    "    return scores, textcat.labels[label]"
   ]
  },
  {
   "cell_type": "code",
   "execution_count": 3,
   "metadata": {},
   "outputs": [
    {
     "name": "stdout",
     "output_type": "stream",
     "text": [
      "{'intent': 'irrelevant', 'sentence': 'Tu sais où je peux acheter un bazooka ?'} (array([[2.0215701e-07, 2.6152105e-09, 1.5415856e-11, 3.3006120e-07,\n",
      "        1.0594811e-07, 1.3133098e-05, 1.4320197e-09, 9.9998629e-01]],\n",
      "      dtype=float32), 'purchase')\n",
      "irrelevant find-hotel [4.0204725e-08 1.4341611e-09 9.9981922e-01 1.5436640e-11 2.3821159e-11\n",
      " 1.2798970e-06 4.7362061e-09 1.7956574e-04]\n"
     ]
    }
   ],
   "source": [
    "# Reading training data\n",
    "with open('../data/processed/testing_set.json') as f:\n",
    "  testingData = json.load(f)\n",
    "\n",
    "# Creating a dataframe with the training data\n",
    "d_testingData = pd.DataFrame(testingData)\n",
    "\n",
    "# Sentence example\n",
    "print(testingData[0], predict(testingData[0][\"sentence\"]))\n",
    "y_true = np.array([expected['intent'] for expected in testingData])\n",
    "y_pred = np.array([predict(expected['sentence'])[1] for expected in testingData])\n",
    "y_score = np.array([predict(expected['sentence'])[0][0] for expected in testingData])\n",
    "\n",
    "print(y_true[1], y_pred[1], y_score[1])"
   ]
  },
  {
   "cell_type": "code",
   "execution_count": 4,
   "metadata": {},
   "outputs": [
    {
     "name": "stdout",
     "output_type": "stream",
     "text": [
      "micro : \t 0.8544600938967136\n",
      "weighted : \t 0.8544600938967136\n",
      "macro : \t 0.787534137528874\n"
     ]
    }
   ],
   "source": [
    "# recall\n",
    "print(\"micro : \\t\", recall_score(y_true, y_pred, average = \"micro\"))\n",
    "print(\"weighted : \\t\", recall_score(y_true, y_pred, average = \"weighted\"))\n",
    "print(\"macro : \\t\",recall_score(y_true, y_pred, average = \"macro\"))"
   ]
  },
  {
   "cell_type": "code",
   "execution_count": 5,
   "metadata": {},
   "outputs": [
    {
     "name": "stdout",
     "output_type": "stream",
     "text": [
      "accuracy score :\t 0.8544600938967136\n"
     ]
    }
   ],
   "source": [
    "# accuracy score\n",
    "print(\"accuracy score :\\t\", accuracy_score(y_true, y_pred))"
   ]
  },
  {
   "cell_type": "code",
   "execution_count": 6,
   "metadata": {},
   "outputs": [
    {
     "name": "stdout",
     "output_type": "stream",
     "text": [
      "f1 score : \n",
      "micro : \t 0.8544600938967136\n",
      "weighted : \t 0.8513721959279645\n",
      "macro : \t 0.7887151091091016\n"
     ]
    }
   ],
   "source": [
    "print(\"f1 score : \")\n",
    "print(\"micro : \\t\", f1_score(y_true, y_pred, average = \"micro\"))\n",
    "print(\"weighted : \\t\", f1_score(y_true, y_pred, average = \"weighted\"))\n",
    "print(\"macro : \\t\",f1_score(y_true, y_pred, average = \"macro\"))"
   ]
  },
  {
   "cell_type": "code",
   "execution_count": 7,
   "metadata": {},
   "outputs": [
    {
     "name": "stdout",
     "output_type": "stream",
     "text": [
      "fbeta score : \n",
      "micro : \t 0.8544600938967136\n",
      "weighted : \t 0.8510228215560655\n",
      "macro : \t 0.7919029559279085\n"
     ]
    }
   ],
   "source": [
    "fbeta_score\n",
    "print(\"fbeta score : \")\n",
    "print(\"micro : \\t\", fbeta_score(y_true, y_pred, beta=0.5, average = \"micro\"))\n",
    "print(\"weighted : \\t\", fbeta_score(y_true, y_pred, beta=0.5, average = \"weighted\"))\n",
    "print(\"macro : \\t\",fbeta_score(y_true, y_pred, beta=0.5, average = \"macro\"))"
   ]
  },
  {
   "cell_type": "code",
   "execution_count": 8,
   "metadata": {},
   "outputs": [
    {
     "name": "stdout",
     "output_type": "stream",
     "text": [
      "(1065, 8)\n"
     ]
    }
   ],
   "source": [
    "encoder = OneHotEncoder(sparse=False)\n",
    "y_enc_true = np.array(encoder.fit_transform(y_true.reshape(-1,1)))\n",
    "y_enc_pred = np.array(encoder.transform(y_pred.reshape(-1,1)))\n",
    "print(y_enc_true.shape)"
   ]
  },
  {
   "cell_type": "code",
   "execution_count": 9,
   "metadata": {},
   "outputs": [
    {
     "name": "stdout",
     "output_type": "stream",
     "text": [
      "(1065, 8)\n"
     ]
    }
   ],
   "source": [
    "print(y_score.shape)"
   ]
  },
  {
   "cell_type": "code",
   "execution_count": 10,
   "metadata": {},
   "outputs": [],
   "source": [
    "# Compute ROC curve and ROC area for each class\n",
    "fpr = dict()\n",
    "tpr = dict()\n",
    "roc_auc = dict()\n",
    "for i in range(8):\n",
    "    fpr[i], tpr[i], _ = roc_curve(y_enc_true[:, i], y_score[:, i])\n",
    "    roc_auc[i] = auc(fpr[i], tpr[i])\n",
    "\n",
    "# Compute micro-average ROC curve and ROC area\n",
    "fpr[\"micro\"], tpr[\"micro\"], _ = roc_curve(y_enc_true.ravel(), y_score.ravel())\n",
    "roc_auc[\"micro\"] = auc(fpr[\"micro\"], tpr[\"micro\"])"
   ]
  },
  {
   "cell_type": "code",
   "execution_count": 11,
   "metadata": {},
   "outputs": [
    {
     "name": "stderr",
     "output_type": "stream",
     "text": [
      "<ipython-input-11-d9a931dd15fc>:8: DeprecationWarning: scipy.interp is deprecated and will be removed in SciPy 2.0.0, use numpy.interp instead\n",
      "  mean_tpr += interp(all_fpr, fpr[i], tpr[i])\n"
     ]
    },
    {
     "data": {
      "image/png": "[encoded data removed]",
      "text/plain": [
       "<Figure size 432x288 with 1 Axes>"
      ]
     },
     "metadata": {
      "needs_background": "light"
     },
     "output_type": "display_data"
    }
   ],
   "source": [
    "n_classes = 8\n",
    "# First aggregate all false positive rates\n",
    "all_fpr = np.unique(np.concatenate([fpr[i] for i in range(n_classes)]))\n",
    "\n",
    "# Then interpolate all ROC curves at this points\n",
    "mean_tpr = np.zeros_like(all_fpr)\n",
    "for i in range(n_classes):\n",
    "    mean_tpr += interp(all_fpr, fpr[i], tpr[i])\n",
    "\n",
    "# Finally average it and compute AUC\n",
    "mean_tpr /= n_classes\n",
    "\n",
    "fpr[\"macro\"] = all_fpr\n",
    "tpr[\"macro\"] = mean_tpr\n",
    "roc_auc[\"macro\"] = auc(fpr[\"macro\"], tpr[\"macro\"])\n",
    "\n",
    "# Plot all ROC curves\n",
    "plt.figure()\n",
    "plt.plot(fpr[\"micro\"], tpr[\"micro\"],\n",
    "         label='micro-average ROC curve (area = {0:0.2f})'\n",
    "               ''.format(roc_auc[\"micro\"]),\n",
    "         color='deeppink', linestyle=':', linewidth=4)\n",
    "\n",
    "plt.plot(fpr[\"macro\"], tpr[\"macro\"],\n",
    "         label='macro-average ROC curve (area = {0:0.2f})'\n",
    "               ''.format(roc_auc[\"macro\"]),\n",
    "         color='navy', linestyle=':', linewidth=4)\n",
    "\n",
    "colors = cycle(['aqua', 'darkorange', 'cornflowerblue'])\n",
    "lw = 1\n",
    "for i, color in zip(range(n_classes), colors):\n",
    "    plt.plot(fpr[i], tpr[i], color=color, lw=lw,\n",
    "             label='ROC curve of class {0} (area = {1:0.2f})'\n",
    "             ''.format(i, roc_auc[i]))\n",
    "\n",
    "plt.plot([0, 1], [0, 1], 'k--', lw=lw)\n",
    "plt.xlim([0.0, 1.0])\n",
    "plt.ylim([0.0, 1.05])\n",
    "plt.xlabel('False Positive Rate')\n",
    "plt.ylabel('True Positive Rate')\n",
    "plt.title('Some extension of Receiver operating characteristic to multi-class')\n",
    "plt.legend(loc=\"lower right\")\n",
    "plt.show()"
   ]
  }
 ],
 "metadata": {
  "kernelspec": {
   "display_name": "Python 3",
   "language": "python",
   "name": "python3"
  },
  "language_info": {
   "codemirror_mode": {
    "name": "ipython",
    "version": 3
   },
   "file_extension": ".py",
   "mimetype": "text/x-python",
   "name": "python",
   "nbconvert_exporter": "python",
   "pygments_lexer": "ipython3",
   "version": "3.8.6"
  }
 },
 "nbformat": 4,
 "nbformat_minor": 4
}
